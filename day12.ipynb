{
 "cells": [
  {
   "cell_type": "code",
   "execution_count": 5,
   "id": "c15f147a-c4e9-4da8-9a2f-11798d5478d9",
   "metadata": {},
   "outputs": [],
   "source": [
    "import pandas as pd\n"
   ]
  },
  {
   "cell_type": "markdown",
   "id": "efa24e65-f73f-434f-a762-51a7b439b07c",
   "metadata": {},
   "source": [
    "# Data Analysis\n",
    "1. discription\n",
    "2. diagnosis\n",
    "3. prediction\n",
    "4. actions/prescription"
   ]
  },
  {
   "cell_type": "code",
   "execution_count": 6,
   "id": "ac83b7b5-287c-4d1e-bcea-dd5a0ad6745d",
   "metadata": {},
   "outputs": [],
   "source": [
    "cols=['user_id','movie_id','rating','ts']"
   ]
  },
  {
   "cell_type": "code",
   "execution_count": 7,
   "id": "92c5eae1-ced1-4cb2-89e8-329f99a61b02",
   "metadata": {},
   "outputs": [],
   "source": [
    "#read the file\n",
    "df=pd.read_csv('u.data',sep='\\t',names=cols)"
   ]
  },
  {
   "cell_type": "code",
   "execution_count": 10,
   "id": "d422306a-19e6-4540-a656-d83a340f8db8",
   "metadata": {},
   "outputs": [],
   "source": [
    "# read the other file\n",
    "df1 = pd.read_csv('u.item',sep='|',encoding=\"ISO-8859-1\",names=item_cols)[['movie_id','title']]"
   ]
  },
  {
   "cell_type": "markdown",
   "id": "9191f293-1a67-4767-9ba7-b07f17f76d9a",
   "metadata": {},
   "source": [
    "### Exploratory Data Analysis (EDA)"
   ]
  },
  {
   "cell_type": "code",
   "execution_count": null,
   "id": "ccf94399-6db7-4db5-b951-63872f4a451f",
   "metadata": {},
   "outputs": [],
   "source": [
    "df.sample(5)\n"
   ]
  },
  {
   "cell_type": "code",
   "execution_count": null,
   "id": "21d98083-a2f0-47fd-97fa-9d3c00d2e228",
   "metadata": {},
   "outputs": [],
   "source": [
    "df.info()"
   ]
  },
  {
   "cell_type": "code",
   "execution_count": null,
   "id": "b5b0165a-815b-4764-9916-4bfedbf0da02",
   "metadata": {},
   "outputs": [],
   "source": [
    "df.describe(include='all')"
   ]
  },
  {
   "cell_type": "markdown",
   "id": "91b5238a-681a-40a8-916c-1e926f7a05d0",
   "metadata": {},
   "source": [
    "#### try to find the different data\n",
    "1. string data categorical or not\n",
    "2. string with random stuff\n",
    "3. numerical data whether categorical\n",
    "4. numerical with quantified info\n",
    "5. random numbers or ID sort of data "
   ]
  },
  {
   "cell_type": "code",
   "execution_count": null,
   "id": "2d0fd9a5-4e94-42ee-844e-658138dae1ba",
   "metadata": {},
   "outputs": [],
   "source": [
    "df.columns"
   ]
  },
  {
   "cell_type": "code",
   "execution_count": null,
   "id": "58b9ae67-685d-45b6-9228-ef9a40c83fdc",
   "metadata": {},
   "outputs": [],
   "source": [
    "df['rating'].unique()"
   ]
  },
  {
   "cell_type": "code",
   "execution_count": null,
   "id": "0f75514f-3a4e-42c8-a627-e2150cde7b00",
   "metadata": {},
   "outputs": [],
   "source": [
    "df['rating'].nunique()"
   ]
  },
  {
   "cell_type": "code",
   "execution_count": null,
   "id": "6699fd4d-5d43-437a-93c8-8dbceaecab59",
   "metadata": {},
   "outputs": [],
   "source": [
    "df['user_id'].nunique()"
   ]
  },
  {
   "cell_type": "code",
   "execution_count": null,
   "id": "bb67124e-0142-42c3-9a97-f701098433ad",
   "metadata": {},
   "outputs": [],
   "source": [
    "df['movie_id'].nunique()\n"
   ]
  },
  {
   "cell_type": "code",
   "execution_count": null,
   "id": "9e681dee-24f3-481e-8b12-cba9d3ed231f",
   "metadata": {},
   "outputs": [],
   "source": [
    "df1.sample(5)"
   ]
  },
  {
   "cell_type": "code",
   "execution_count": null,
   "id": "2e4fda19-889e-4787-bd86-bbba664b5f63",
   "metadata": {},
   "outputs": [],
   "source": [
    "df1.shape"
   ]
  },
  {
   "cell_type": "markdown",
   "id": "8a8f5cf5-cd9f-43ae-9fed-6cc5c8b80b80",
   "metadata": {},
   "source": [
    "## list comprehension"
   ]
  },
  {
   "cell_type": "code",
   "execution_count": null,
   "id": "806b0b5a-13f1-460f-a84e-42decd9973cf",
   "metadata": {},
   "outputs": [],
   "source": [
    "a=[4,5,6,8,9]\n",
    "# make a list of double of values"
   ]
  },
  {
   "cell_type": "code",
   "execution_count": null,
   "id": "38d97ebb-2994-4de2-ae36-31c8445b2cdd",
   "metadata": {},
   "outputs": [],
   "source": [
    "# using comprehension\n",
    "b=[i*2 for i in a]\n",
    "b"
   ]
  },
  {
   "cell_type": "code",
   "execution_count": 9,
   "id": "e3267269-1298-42ca-939a-8a9e7a80d55e",
   "metadata": {},
   "outputs": [],
   "source": [
    "item_cols=['movie_id','title']+[str(i)for i in range(22)]\n",
    "#or\n",
    "item_cols=['movie_id','title']+list(range(22))"
   ]
  },
  {
   "cell_type": "markdown",
   "id": "ec9c41a1-458b-469c-aed9-671421de4373",
   "metadata": {},
   "source": [
    "## merging the data frames"
   ]
  },
  {
   "cell_type": "code",
   "execution_count": null,
   "id": "b24cf63d-478c-4d8b-86cb-b5c90fd527f0",
   "metadata": {},
   "outputs": [],
   "source": [
    "movie=pd.merge(df,df1,on='movie_id')"
   ]
  },
  {
   "cell_type": "code",
   "execution_count": null,
   "id": "de750f41-ef0f-4218-8df4-55f95c90fd02",
   "metadata": {},
   "outputs": [],
   "source": [
    "movie.head()"
   ]
  },
  {
   "cell_type": "code",
   "execution_count": null,
   "id": "521ca80c-5e62-4b02-9d2d-8ad5ae524ef3",
   "metadata": {},
   "outputs": [],
   "source": [
    "#remove redundant or useless column ie ts\n",
    "movie.drop('ts',axis=1,inplace=True)"
   ]
  },
  {
   "cell_type": "code",
   "execution_count": null,
   "id": "131748f4-2777-49cb-bf39-25cfd2505992",
   "metadata": {},
   "outputs": [],
   "source": [
    "movie.head()"
   ]
  },
  {
   "cell_type": "code",
   "execution_count": null,
   "id": "60e143f3-469b-49b3-9be8-a14f7a4ec34f",
   "metadata": {},
   "outputs": [],
   "source": [
    "# find no of ratings for each movie"
   ]
  },
  {
   "cell_type": "code",
   "execution_count": null,
   "id": "b32c4605-2dae-44d2-be2b-09fc9b60a6ff",
   "metadata": {},
   "outputs": [],
   "source": [
    "count=movie['title'].value_counts().head(10)"
   ]
  },
  {
   "cell_type": "code",
   "execution_count": null,
   "id": "d94f6bdc-f39b-452c-8730-7273f1133e0b",
   "metadata": {},
   "outputs": [],
   "source": [
    "# find the avg rating for each movie"
   ]
  },
  {
   "cell_type": "code",
   "execution_count": null,
   "id": "c4cf8436-9c7f-4685-add4-87e742dd2d29",
   "metadata": {},
   "outputs": [],
   "source": [
    "ratings=pd.DataFrame(movie.groupby('title')['rating'].mean().sort_values(ascending=False))"
   ]
  },
  {
   "cell_type": "code",
   "execution_count": null,
   "id": "8e66118a-a2a2-457d-bce8-08f6363a47be",
   "metadata": {},
   "outputs": [],
   "source": [
    "ratings\n"
   ]
  },
  {
   "cell_type": "code",
   "execution_count": null,
   "id": "afb3f34c-ed3d-4468-b93d-ab6b597c20ef",
   "metadata": {},
   "outputs": [],
   "source": [
    "ratings['count']=movie['title'].value_counts()"
   ]
  },
  {
   "cell_type": "code",
   "execution_count": null,
   "id": "20ab82f8-f79a-40db-a9e3-001154312f26",
   "metadata": {},
   "outputs": [],
   "source": [
    "ratings.head(20)"
   ]
  },
  {
   "cell_type": "code",
   "execution_count": null,
   "id": "59425955-a6fb-4578-b6e1-e14bed9b1a2e",
   "metadata": {},
   "outputs": [],
   "source": [
    "ratings.sort_values(by='count',ascending=False).head(20)"
   ]
  },
  {
   "cell_type": "code",
   "execution_count": null,
   "id": "33903ac3-1125-4751-beb9-5a94a046c7e5",
   "metadata": {},
   "outputs": [],
   "source": [
    "movie_pivot=movie.pivot_table( index='user_id',columns='title',values='rating')\n",
    "movie_pivot.head()"
   ]
  },
  {
   "cell_type": "markdown",
   "id": "fa82e8b9-e952-4b25-b083-39f967bd99b3",
   "metadata": {},
   "source": [
    "## function for correlation"
   ]
  },
  {
   "cell_type": "code",
   "execution_count": null,
   "id": "ec1bbd7a-7d46-4d59-a2cc-f877daf6c34b",
   "metadata": {},
   "outputs": [],
   "source": [
    "#movie.corrwith() "
   ]
  },
  {
   "cell_type": "code",
   "execution_count": null,
   "id": "f9899b6d-60ea-4c4c-85c2-98791c44973c",
   "metadata": {},
   "outputs": [],
   "source": [
    "movie_selected='Star Wars (1977)'"
   ]
  },
  {
   "cell_type": "code",
   "execution_count": null,
   "id": "a9b0f7e2-bfee-495a-b02b-c5000991dc6c",
   "metadata": {},
   "outputs": [],
   "source": [
    "ms_rates=movie_pivot[movie_selected]\n",
    "ms_rates.head()\n"
   ]
  },
  {
   "cell_type": "code",
   "execution_count": null,
   "id": "44faac2a-0637-459e-a3d3-c9f0a5884de9",
   "metadata": {},
   "outputs": [],
   "source": [
    "import warnings\n",
    "warnings.filterwarnings('ignore')"
   ]
  },
  {
   "cell_type": "code",
   "execution_count": null,
   "id": "e28996aa-43a7-4c50-a81d-246a9f75186d",
   "metadata": {},
   "outputs": [],
   "source": [
    "corrs=movie_pivot.corrwith(ms_rates)\n",
    "corrs.head()"
   ]
  },
  {
   "cell_type": "code",
   "execution_count": null,
   "id": "04e14868-db26-42d9-b123-0bba81a288c2",
   "metadata": {},
   "outputs": [],
   "source": [
    "corrs.sort_values(ascending=False)"
   ]
  },
  {
   "cell_type": "code",
   "execution_count": null,
   "id": "088446f7-1b71-44ce-8ade-9a984103d89c",
   "metadata": {},
   "outputs": [],
   "source": [
    "corrs_df=pd.DataFrame(corrs,columns=['correlation'])\n",
    "corrs_df.head()"
   ]
  },
  {
   "cell_type": "code",
   "execution_count": null,
   "id": "b6c99b2a-00f2-4aea-b731-0462c79f3d70",
   "metadata": {},
   "outputs": [],
   "source": []
  },
  {
   "cell_type": "code",
   "execution_count": null,
   "id": "e67a3284-466b-4d97-bb25-99c38cbf8b38",
   "metadata": {},
   "outputs": [],
   "source": [
    "corrs_df['rating']=ratings['rating']\n",
    "corrs_df['count']=ratings['count']"
   ]
  },
  {
   "cell_type": "code",
   "execution_count": null,
   "id": "830f3804-90ab-48c8-b409-f59dd8633294",
   "metadata": {},
   "outputs": [],
   "source": [
    "corrs_df.head()"
   ]
  },
  {
   "cell_type": "code",
   "execution_count": null,
   "id": "18b89c8e-5513-45a2-a2fc-779c0086a6b0",
   "metadata": {},
   "outputs": [],
   "source": [
    "corrs_df[corrs_df['count']>50].sort_values(by ='correlation',ascending=False).head(10)"
   ]
  },
  {
   "cell_type": "code",
   "execution_count": null,
   "id": "a7f51a8a-5ed6-4b33-8d0e-ff9e99acf46e",
   "metadata": {},
   "outputs": [],
   "source": []
  },
  {
   "cell_type": "code",
   "execution_count": null,
   "id": "4eb4957b-a1be-433a-b360-604eee79da71",
   "metadata": {},
   "outputs": [],
   "source": [
    "top_recom =list(corrs_df[corrs_df['count']>50].sort_values(by='correlation',ascending=False).head(3).index)"
   ]
  },
  {
   "cell_type": "code",
   "execution_count": null,
   "id": "7ecc9b22-c878-4abb-b6eb-fa21ecc9d186",
   "metadata": {},
   "outputs": [],
   "source": [
    "movie_selected"
   ]
  },
  {
   "cell_type": "code",
   "execution_count": null,
   "id": "239da788-59ac-4a26-adfe-d3a22b2c27b1",
   "metadata": {},
   "outputs": [],
   "source": [
    " top_recom.remove(movie_selected)"
   ]
  },
  {
   "cell_type": "code",
   "execution_count": null,
   "id": "5e72d600-da3b-4cae-957b-7f348dedd6e8",
   "metadata": {},
   "outputs": [],
   "source": [
    " top_recom"
   ]
  },
  {
   "cell_type": "code",
   "execution_count": null,
   "id": "38321872-24e8-425e-ba84-86343f64791d",
   "metadata": {},
   "outputs": [],
   "source": [
    "import pandas as pd\n",
    "import warnings\n",
    "warnings.filterwarnings('ignore')\n",
    "def movie_recommended(movie_selected='Star Wars (1977)'):\n",
    "    # read files\n",
    "    cols=['user_id','movie_id','rating','ts']\n",
    "    df=pd.read_csv('u.data',sep='\\t',names=cols)\n",
    "    item_cols=['movie_id','title']+[str(i)for i in range(22)]\n",
    "    df1 = pd.read_csv('u.item',sep='|',encoding=\"ISO-8859-1\",names=item_cols)[['movie_id','title']]\n",
    "    \n",
    "    # merge the dataframes\n",
    "    movie=pd.merge(df,df1,on='movie_id')\n",
    "    \n",
    "    # Create Pivot Table\n",
    "    movie_pivot=movie.pivot_table( index='user_id',columns='title',values='rating')\n",
    "    \n",
    "    # find similarity for selected movie\n",
    "    corrs = movie_pivot.corrswith(movie_pivot[movie_selected])\n",
    "    corrs_df=pd.DataFrame(corrs,columns=['correlation'])\n",
    "    corrs_df['rating']=movie.groupby('title')['rating'].mean()\n",
    "    corrs_df['count']=movie['title'].value_counts()\n",
    "    \n",
    "    # find top 2-3 recommendations\n",
    "    top_recom =list(corrs_df[corrs_df['count']>50].sort_values(by='correlation',ascending=False).head(3).index)\n",
    "    top_recom.remove(movie_selected)\n",
    "    \n",
    "    return top_recom\n",
    "    "
   ]
  }
 ],
 "metadata": {
  "kernelspec": {
   "display_name": "Python 3.10.6 64-bit",
   "language": "python",
   "name": "python3"
  },
  "language_info": {
   "codemirror_mode": {
    "name": "ipython",
    "version": 3
   },
   "file_extension": ".py",
   "mimetype": "text/x-python",
   "name": "python",
   "nbconvert_exporter": "python",
   "pygments_lexer": "ipython3",
   "version": "3.10.6"
  },
  "vscode": {
   "interpreter": {
    "hash": "a9cff5a362bc38ef45d817ae74b1af54d6a076e3d773891282bce078b815ba34"
   }
  }
 },
 "nbformat": 4,
 "nbformat_minor": 5
}
